{
 "cells": [
  {
   "cell_type": "markdown",
   "id": "26e503c7",
   "metadata": {},
   "source": [
    "# HOW TO CREATE PRESENTATION USING PYTHON"
   ]
  },
  {
   "cell_type": "code",
   "execution_count": null,
   "id": "c0147442",
   "metadata": {},
   "outputs": [],
   "source": [
    "import pandas as pd\n",
    "import excel2img\n",
    "from pptx import Presentation\n",
    "from pptx.util import Inches\n",
    "from copy import copy"
   ]
  },
  {
   "cell_type": "markdown",
   "id": "27d8a524",
   "metadata": {},
   "source": [
    "### You can use your graphs and convert them to .png\n",
    "### Or\n",
    "### You can use \"excel2img\" package:\n",
    "**1. Create Your excel file by using pandas or anything else**  \n",
    "**2. Format it by copying a template of reporting using \"copy\" package (format is up to your needs)**  \n",
    "**3. Take a Snapshot by using \"excel2img\" package**"
   ]
  },
  {
   "cell_type": "markdown",
   "id": "336f42d2",
   "metadata": {},
   "source": [
    "# Here is how presentation is created from you .png files"
   ]
  },
  {
   "cell_type": "code",
   "execution_count": null,
   "id": "806b7b88",
   "metadata": {},
   "outputs": [],
   "source": [
    "prs = Presentation()\n",
    "slide_lst = ['INSERT PICTURE NAMES AS LIST']\n",
    "for slide in slide_lst:\n",
    "    path = f'{slide}.png'\n",
    "\n",
    "    prs.slide_width = Inches(16)\n",
    "    prs.slide_height = Inches(9)\n",
    "    blank_slide_layout = prs.slide_layouts[0]\n",
    "    slide = prs.slides.add_slide(blank_slide_layout)\n",
    "    left =Inches(0.5)\n",
    "    top = Inches(1.5)\n",
    "    width = Inches(15)\n",
    "    height = Inches(6)\n",
    "    img = slide.shapes.add_picture(path,left,top, width, height)\n",
    "\n",
    "    prs.save('Name.pptx')"
   ]
  }
 ],
 "metadata": {
  "kernelspec": {
   "display_name": "Python 3 (ipykernel)",
   "language": "python",
   "name": "python3"
  },
  "language_info": {
   "codemirror_mode": {
    "name": "ipython",
    "version": 3
   },
   "file_extension": ".py",
   "mimetype": "text/x-python",
   "name": "python",
   "nbconvert_exporter": "python",
   "pygments_lexer": "ipython3",
   "version": "3.8.5"
  }
 },
 "nbformat": 4,
 "nbformat_minor": 5
}
